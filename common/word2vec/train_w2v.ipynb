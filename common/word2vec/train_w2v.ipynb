{
 "cells": [
  {
   "cell_type": "code",
   "execution_count": null,
   "outputs": [],
   "source": [
    "\"\"\"\n",
    "Train the word2vec model using our own privacy policy corpus\n",
    "\"\"\"\n",
    "\n",
    "from gensim.models import word2vec\n",
    "import logging\n",
    "\n",
    "logging.basicConfig(format='%(asctime)s:%(levelname)s:%(message)s', level=logging.INFO)\n",
    "\n",
    "# Load the corpus (after word segmentation)\n",
    "sentences = word2vec.Text8Corpus('corpus.txt')\n",
    "\n",
    "# Training model, some parameters are as follows, word vector dimension is 100\n",
    "model = word2vec.Word2Vec(sentences, vector_size=100, hs=1, min_count=1, epochs=15)\n",
    "\n",
    "# Save the model\n",
    "model.save('./model/w2v.model')\n",
    "\n",
    "# Save the vectors\n",
    "model.wv.save_word2vec_format('./model/wv.vector', binary=False)"
   ],
   "metadata": {
    "collapsed": false,
    "pycharm": {
     "name": "#%%\n"
    }
   }
  }
 ],
 "metadata": {
  "kernelspec": {
   "display_name": "viodroid",
   "language": "python",
   "name": "viodroid"
  },
  "language_info": {
   "codemirror_mode": {
    "name": "ipython",
    "version": 3
   },
   "file_extension": ".py",
   "mimetype": "text/x-python",
   "name": "python",
   "nbconvert_exporter": "python",
   "pygments_lexer": "ipython3",
   "version": "3.8.13"
  }
 },
 "nbformat": 4,
 "nbformat_minor": 5
}