{
 "cells": [
  {
   "cell_type": "code",
   "execution_count": 1,
   "outputs": [],
   "source": [
    "# some configurations\n",
    "dataset_dir = 'DATASET_DIR'\n",
    "bert_trained_model_dir = 'MODEL_SAVE_DIR'"
   ],
   "metadata": {
    "collapsed": false,
    "pycharm": {
     "name": "#%%\n"
    }
   }
  },
  {
   "cell_type": "code",
   "execution_count": 2,
   "outputs": [],
   "source": [
    "import os\n",
    "import shutil\n",
    "\n",
    "from simpletransformers.classification import ClassificationModel\n",
    "import pandas as pd\n",
    "from sklearn.metrics import f1_score, accuracy_score, precision_score, recall_score\n",
    "from sklearn import model_selection\n",
    "\n",
    "os.environ['CUDA_VISIBLE_DEVICES'] = '0'\n",
    "os.environ['TOKENIZERS_PARALLELISM'] = 'false'\n",
    "\n",
    "train_batch_size = 16\n",
    "eval_batch_size = 16\n",
    "max_seq_length = 72"
   ],
   "metadata": {
    "collapsed": false,
    "pycharm": {
     "name": "#%%\n"
    }
   }
  },
  {
   "cell_type": "code",
   "execution_count": 3,
   "outputs": [],
   "source": [
    "def train_for_CR(CR_num):\n",
    "    # load cr dataset\n",
    "    CR_datasets_path = os.path.join(dataset_dir, 'cr{}.csv'.format(CR_num))\n",
    "\n",
    "    train_ratio = 0.7\n",
    "    validation_ratio = 0.3\n",
    "\n",
    "    datasets_df = pd.read_csv(CR_datasets_path, sep=',', header=None)\n",
    "    train_df, validation_df = model_selection.train_test_split(datasets_df, random_state=5, test_size=validation_ratio)\n",
    "\n",
    "    print('Train dataset size: {}\\n Validation dataset size: {}'.format(len(train_df), len(validation_df)))\n",
    "\n",
    "    model_args = {\n",
    "        'best_model_dir': os.path.join(bert_trained_model_dir, 'CR/CR_{}/best_model'.format(CR_num)),\n",
    "        'early_stopping_consider_epochs': False,\n",
    "        'early_stopping_delta': 0.02,\n",
    "        'early_stopping_patience': 3,\n",
    "        'eval_batch_size': eval_batch_size,\n",
    "        'evaluate_during_training': True,\n",
    "        'evaluate_during_training_steps': int(len(train_df) / train_batch_size),\n",
    "        'evaluate_during_training_verbose': True,\n",
    "        'manual_seed': 666,\n",
    "        'max_seq_length': max_seq_length,\n",
    "        'num_train_epochs': 15,\n",
    "        'overwrite_output_dir': True,\n",
    "        'output_dir': os.path.join(bert_trained_model_dir, 'CR/CR_{}'.format(CR_num)),\n",
    "        'save_eval_checkpoints': False,\n",
    "        'save_model_every_epoch': False,\n",
    "        'save_steps': -1,\n",
    "        'train_batch_size': train_batch_size,\n",
    "        'use_early_stopping': True,\n",
    "        'use_multiprocessing': False,\n",
    "        'use_multiprocessing_for_evaluation': False\n",
    "    }\n",
    "    model = ClassificationModel('bert', 'bert-base-chinese', num_labels=2, args=model_args)\n",
    "\n",
    "    try:\n",
    "        shutil.rmtree(model.args.best_model_dir)\n",
    "        shutil.rmtree(model.args.output_dir)\n",
    "    except:\n",
    "        pass\n",
    "\n",
    "    print('=============train for CR_{}============='.format(CR_num))\n",
    "\n",
    "    # model training\n",
    "    model.train_model(train_df, eval_df=validation_df)\n",
    "\n",
    "    # model evaluation\n",
    "    result, model_outputs, wrong_predictions = model.eval_model(validation_df, f1=f1_score, acc=accuracy_score,\n",
    "                                                                precision=precision_score, recall=recall_score)\n",
    "\n",
    "    print('=============results for CR_{}============='.format(CR_num))\n",
    "    print(result)\n",
    "    for wrong_prediction in wrong_predictions:\n",
    "        print(wrong_prediction)"
   ],
   "metadata": {
    "collapsed": false,
    "pycharm": {
     "name": "#%%\n"
    }
   }
  }
 ],
 "metadata": {
  "kernelspec": {
   "name": "cjrgd_kernel",
   "language": "python",
   "display_name": "cjrgd_kernel"
  },
  "language_info": {
   "codemirror_mode": {
    "name": "ipython",
    "version": 2
   },
   "file_extension": ".py",
   "mimetype": "text/x-python",
   "name": "python",
   "nbconvert_exporter": "python",
   "pygments_lexer": "ipython2",
   "version": "2.7.6"
  }
 },
 "nbformat": 4,
 "nbformat_minor": 0
}