{
 "cells": [
  {
   "cell_type": "code",
   "execution_count": 1,
   "outputs": [],
   "source": [
    "# some configurations\n",
    "dataset_dir = 'DATASET_DIR'\n",
    "bert_trained_model_dir = 'MODEL_SAVE_DIR'"
   ],
   "metadata": {
    "collapsed": false,
    "pycharm": {
     "name": "#%%\n"
    }
   }
  },
  {
   "cell_type": "code",
   "execution_count": 2,
   "outputs": [],
   "source": [
    "from sklearn import model_selection\n",
    "\n",
    "\n",
    "def train_test_val_split(datasets_df, ratio_train, ratio_test, ratio_val):\n",
    "    \"\"\"\n",
    "    Divide the data set into training set, test set and validation set\n",
    "    \"\"\"\n",
    "    assert ratio_train + ratio_test + ratio_val == 1\n",
    "\n",
    "    train_df, middle_df = model_selection.train_test_split(datasets_df,\n",
    "                                                           random_state=6,\n",
    "                                                           test_size=1 - ratio_train)\n",
    "    ratio = ratio_val / (1 - ratio_train)\n",
    "\n",
    "    test_df, validation_df = model_selection.train_test_split(middle_df,\n",
    "                                                              random_state=6,\n",
    "                                                              test_size=ratio)\n",
    "\n",
    "    return train_df, test_df, validation_df"
   ],
   "metadata": {
    "collapsed": false,
    "pycharm": {
     "name": "#%%\n"
    }
   }
  },
  {
   "cell_type": "code",
   "execution_count": 3,
   "outputs": [],
   "source": [
    "import os\n",
    "import shutil\n",
    "\n",
    "from simpletransformers.classification import ClassificationModel\n",
    "import pandas as pd\n",
    "\n",
    "os.environ['CUDA_VISIBLE_DEVICES'] = '0'\n",
    "os.environ['TOKENIZERS_PARALLELISM'] = 'false'\n",
    "\n",
    "train_batch_size = 16\n",
    "eval_batch_size = 16"
   ],
   "metadata": {
    "collapsed": false,
    "pycharm": {
     "name": "#%%\n"
    }
   }
  },
  {
   "cell_type": "code",
   "execution_count": null,
   "outputs": [],
   "source": [
    "# load dataset\n",
    "PC_datasets_path = os.path.join(dataset_dir, 'pc.csv')\n",
    "train_ratio = 0.6\n",
    "test_ratio = 0.2\n",
    "validation_ratio = 0.2\n",
    "\n",
    "datasets_df = pd.read_csv(PC_datasets_path, sep=',', header=None)\n",
    "train_df, test_df, validation_df = train_test_val_split(datasets_df, train_ratio, test_ratio, validation_ratio)\n",
    "\n",
    "print('Train dataset size: {}\\n Test dataset size: {}\\n Validation dataset size: {}'.format(len(train_df), len(test_df),\n",
    "                                                                                            len(validation_df)))"
   ],
   "metadata": {
    "collapsed": false,
    "pycharm": {
     "name": "#%%\n"
    }
   }
  },
  {
   "cell_type": "code",
   "execution_count": null,
   "outputs": [],
   "source": [
    "model_args = {'best_model_dir': os.path.join(bert_trained_model_dir, 'PC/best_model'),\n",
    "              'early_stopping_consider_epochs': False,\n",
    "              'early_stopping_delta': 0.02,\n",
    "              'early_stopping_patience': 8,\n",
    "              'eval_batch_size': eval_batch_size,\n",
    "              'evaluate_during_training': True,\n",
    "              'evaluate_during_training_steps': int(len(train_df) / train_batch_size),\n",
    "              'evaluate_during_training_verbose': True,\n",
    "              'manual_seed': 777,\n",
    "              'num_train_epochs': 30,\n",
    "              'overwrite_output_dir': True,\n",
    "              'output_dir': os.path.join(bert_trained_model_dir, 'PC'),\n",
    "              'save_eval_checkpoints': False,\n",
    "              'save_model_every_epoch': False,\n",
    "              'save_steps': -1,\n",
    "              'train_batch_size': train_batch_size,\n",
    "              'use_early_stopping': True,\n",
    "              'use_multiprocessing': False,\n",
    "              'use_multiprocessing_for_evaluation': False\n",
    "              }\n",
    "\n",
    "model = ClassificationModel('bert', 'bert-base-chinese', num_labels=8, args=model_args)"
   ],
   "metadata": {
    "collapsed": false,
    "pycharm": {
     "name": "#%%\n"
    }
   }
  },
  {
   "cell_type": "code",
   "execution_count": 6,
   "outputs": [],
   "source": [
    "try:\n",
    "    shutil.rmtree(model.args.best_model_dir)\n",
    "    shutil.rmtree(model.args.output_dir)\n",
    "except:\n",
    "    pass"
   ],
   "metadata": {
    "collapsed": false,
    "pycharm": {
     "name": "#%%\n"
    }
   }
  },
  {
   "cell_type": "code",
   "execution_count": null,
   "outputs": [],
   "source": [
    "# model training\n",
    "model.train_model(train_df, eval_df=validation_df)"
   ],
   "metadata": {
    "collapsed": false,
    "pycharm": {
     "name": "#%%\n"
    }
   }
  },
  {
   "cell_type": "code",
   "execution_count": null,
   "outputs": [],
   "source": [
    "from sklearn.metrics import f1_score, accuracy_score, precision_score, recall_score\n",
    "\n",
    "\n",
    "def f1_multiclass(labels, predictions):\n",
    "    return f1_score(labels, predictions, average='micro')\n",
    "\n",
    "\n",
    "def precision_multiclass(labels, predictions):\n",
    "    return precision_score(labels, predictions, average='micro')\n",
    "\n",
    "\n",
    "def recall_multiclass(labels, predictions):\n",
    "    return recall_score(labels, predictions, average='micro')\n",
    "\n",
    "\n",
    "result, model_outputs, wrong_predictions = model.eval_model(validation_df, f1=f1_multiclass, acc=accuracy_score,\n",
    "                                                            precision=precision_multiclass, recall=recall_multiclass)\n",
    "\n",
    "print(result)\n",
    "for wrong_prediction in wrong_predictions:\n",
    "    print(wrong_prediction)"
   ],
   "metadata": {
    "collapsed": false,
    "pycharm": {
     "name": "#%%\n"
    }
   }
  }
 ],
 "metadata": {
  "kernelspec": {
   "name": "cjrgd_kernel",
   "language": "python",
   "display_name": "cjrgd_kernel"
  },
  "language_info": {
   "codemirror_mode": {
    "name": "ipython",
    "version": 2
   },
   "file_extension": ".py",
   "mimetype": "text/x-python",
   "name": "python",
   "nbconvert_exporter": "python",
   "pygments_lexer": "ipython2",
   "version": "2.7.6"
  }
 },
 "nbformat": 4,
 "nbformat_minor": 0
}